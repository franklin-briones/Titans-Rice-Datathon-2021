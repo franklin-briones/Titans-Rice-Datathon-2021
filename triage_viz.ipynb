{
 "cells": [
  {
   "cell_type": "code",
   "execution_count": 41,
   "metadata": {},
   "outputs": [],
   "source": [
    "import pandas as pd\n",
    "from matplotlib import pyplot as plt\n",
    "import seaborn as sns"
   ]
  },
  {
   "cell_type": "code",
   "execution_count": 42,
   "metadata": {},
   "outputs": [
    {
     "data": {
      "text/html": [
       "<div>\n",
       "<style scoped>\n",
       "    .dataframe tbody tr th:only-of-type {\n",
       "        vertical-align: middle;\n",
       "    }\n",
       "\n",
       "    .dataframe tbody tr th {\n",
       "        vertical-align: top;\n",
       "    }\n",
       "\n",
       "    .dataframe thead th {\n",
       "        text-align: right;\n",
       "    }\n",
       "</style>\n",
       "<table border=\"1\" class=\"dataframe\">\n",
       "  <thead>\n",
       "    <tr style=\"text-align: right;\">\n",
       "      <th></th>\n",
       "      <th>stabbr</th>\n",
       "      <th>GeoID10_trt</th>\n",
       "      <th>TotalPop</th>\n",
       "      <th>NHwht</th>\n",
       "      <th>NHblk</th>\n",
       "      <th>NHasi</th>\n",
       "      <th>NHother</th>\n",
       "      <th>Hisp</th>\n",
       "      <th>pctNHwht</th>\n",
       "      <th>pctNHblk</th>\n",
       "      <th>...</th>\n",
       "      <th>pctFemHHwc</th>\n",
       "      <th>sumlevel</th>\n",
       "      <th>stfips</th>\n",
       "      <th>county</th>\n",
       "      <th>tract_x</th>\n",
       "      <th>GeoID10_cnty</th>\n",
       "      <th>tract_y</th>\n",
       "      <th>latitude</th>\n",
       "      <th>longitude</th>\n",
       "      <th>google_loc</th>\n",
       "    </tr>\n",
       "  </thead>\n",
       "  <tbody>\n",
       "    <tr>\n",
       "      <th>0</th>\n",
       "      <td>TX</td>\n",
       "      <td>48201100000</td>\n",
       "      <td>4690</td>\n",
       "      <td>2082</td>\n",
       "      <td>1047</td>\n",
       "      <td>134</td>\n",
       "      <td>357</td>\n",
       "      <td>1070</td>\n",
       "      <td>44.39</td>\n",
       "      <td>22.32</td>\n",
       "      <td>...</td>\n",
       "      <td>3.19</td>\n",
       "      <td>140</td>\n",
       "      <td>48</td>\n",
       "      <td>201</td>\n",
       "      <td>100000.0</td>\n",
       "      <td>NaN</td>\n",
       "      <td>1000.0</td>\n",
       "      <td>29.757283</td>\n",
       "      <td>-95.362731</td>\n",
       "      <td>29.7572831, -95.3627308 (1000)</td>\n",
       "    </tr>\n",
       "    <tr>\n",
       "      <th>1</th>\n",
       "      <td>TX</td>\n",
       "      <td>48201210100</td>\n",
       "      <td>9652</td>\n",
       "      <td>2893</td>\n",
       "      <td>4881</td>\n",
       "      <td>58</td>\n",
       "      <td>32</td>\n",
       "      <td>1788</td>\n",
       "      <td>29.97</td>\n",
       "      <td>50.57</td>\n",
       "      <td>...</td>\n",
       "      <td>9.09</td>\n",
       "      <td>140</td>\n",
       "      <td>48</td>\n",
       "      <td>201</td>\n",
       "      <td>210100.0</td>\n",
       "      <td>NaN</td>\n",
       "      <td>2101.0</td>\n",
       "      <td>29.766385</td>\n",
       "      <td>-95.351304</td>\n",
       "      <td>29.7663846, -95.3513042 (2101)</td>\n",
       "    </tr>\n",
       "    <tr>\n",
       "      <th>2</th>\n",
       "      <td>TX</td>\n",
       "      <td>48201210400</td>\n",
       "      <td>5328</td>\n",
       "      <td>332</td>\n",
       "      <td>904</td>\n",
       "      <td>23</td>\n",
       "      <td>44</td>\n",
       "      <td>4025</td>\n",
       "      <td>6.23</td>\n",
       "      <td>16.97</td>\n",
       "      <td>...</td>\n",
       "      <td>21.43</td>\n",
       "      <td>140</td>\n",
       "      <td>48</td>\n",
       "      <td>201</td>\n",
       "      <td>210400.0</td>\n",
       "      <td>NaN</td>\n",
       "      <td>2104.0</td>\n",
       "      <td>29.786450</td>\n",
       "      <td>-95.362207</td>\n",
       "      <td>29.7864497, -95.3622075 (2104)</td>\n",
       "    </tr>\n",
       "    <tr>\n",
       "      <th>3</th>\n",
       "      <td>TX</td>\n",
       "      <td>48201210500</td>\n",
       "      <td>4882</td>\n",
       "      <td>225</td>\n",
       "      <td>535</td>\n",
       "      <td>6</td>\n",
       "      <td>20</td>\n",
       "      <td>4096</td>\n",
       "      <td>4.61</td>\n",
       "      <td>10.96</td>\n",
       "      <td>...</td>\n",
       "      <td>16.59</td>\n",
       "      <td>140</td>\n",
       "      <td>48</td>\n",
       "      <td>201</td>\n",
       "      <td>210500.0</td>\n",
       "      <td>NaN</td>\n",
       "      <td>2105.0</td>\n",
       "      <td>29.795258</td>\n",
       "      <td>-95.360383</td>\n",
       "      <td>29.7952577, -95.3603828 (2105)</td>\n",
       "    </tr>\n",
       "    <tr>\n",
       "      <th>4</th>\n",
       "      <td>TX</td>\n",
       "      <td>48201210600</td>\n",
       "      <td>5497</td>\n",
       "      <td>935</td>\n",
       "      <td>96</td>\n",
       "      <td>36</td>\n",
       "      <td>52</td>\n",
       "      <td>4378</td>\n",
       "      <td>17.01</td>\n",
       "      <td>1.75</td>\n",
       "      <td>...</td>\n",
       "      <td>10.15</td>\n",
       "      <td>140</td>\n",
       "      <td>48</td>\n",
       "      <td>201</td>\n",
       "      <td>210600.0</td>\n",
       "      <td>NaN</td>\n",
       "      <td>2106.0</td>\n",
       "      <td>29.807040</td>\n",
       "      <td>-95.365360</td>\n",
       "      <td>29.8070404, -95.3653598 (2106)</td>\n",
       "    </tr>\n",
       "  </tbody>\n",
       "</table>\n",
       "<p>5 rows × 68 columns</p>\n",
       "</div>"
      ],
      "text/plain": [
       "  stabbr  GeoID10_trt  TotalPop  NHwht  NHblk  NHasi  NHother  Hisp  pctNHwht  \\\n",
       "0     TX  48201100000      4690   2082   1047    134      357  1070     44.39   \n",
       "1     TX  48201210100      9652   2893   4881     58       32  1788     29.97   \n",
       "2     TX  48201210400      5328    332    904     23       44  4025      6.23   \n",
       "3     TX  48201210500      4882    225    535      6       20  4096      4.61   \n",
       "4     TX  48201210600      5497    935     96     36       52  4378     17.01   \n",
       "\n",
       "   pctNHblk  ...  pctFemHHwc  sumlevel  stfips  county   tract_x  \\\n",
       "0     22.32  ...        3.19       140      48     201  100000.0   \n",
       "1     50.57  ...        9.09       140      48     201  210100.0   \n",
       "2     16.97  ...       21.43       140      48     201  210400.0   \n",
       "3     10.96  ...       16.59       140      48     201  210500.0   \n",
       "4      1.75  ...       10.15       140      48     201  210600.0   \n",
       "\n",
       "   GeoID10_cnty  tract_y   latitude  longitude                      google_loc  \n",
       "0           NaN   1000.0  29.757283 -95.362731  29.7572831, -95.3627308 (1000)  \n",
       "1           NaN   2101.0  29.766385 -95.351304  29.7663846, -95.3513042 (2101)  \n",
       "2           NaN   2104.0  29.786450 -95.362207  29.7864497, -95.3622075 (2104)  \n",
       "3           NaN   2105.0  29.795258 -95.360383  29.7952577, -95.3603828 (2105)  \n",
       "4           NaN   2106.0  29.807040 -95.365360  29.8070404, -95.3653598 (2106)  \n",
       "\n",
       "[5 rows x 68 columns]"
      ]
     },
     "execution_count": 42,
     "metadata": {},
     "output_type": "execute_result"
    }
   ],
   "source": [
    "merged = pd.read_csv(\"final_dat.csv\")\n",
    "merged.head()"
   ]
  },
  {
   "cell_type": "code",
   "execution_count": 48,
   "metadata": {},
   "outputs": [
    {
     "data": {
      "text/plain": [
       "<matplotlib.collections.PathCollection at 0x1fedb5f54c0>"
      ]
     },
     "execution_count": 48,
     "metadata": {},
     "output_type": "execute_result"
    },
    {
     "data": {
      "image/png": "[encoded data removed]",
      "text/plain": [
       "<Figure size 432x288 with 1 Axes>"
      ]
     },
     "metadata": {
      "needs_background": "light"
     },
     "output_type": "display_data"
    }
   ],
   "source": [
    "plt.scatter(x = merged[\"longitude\"], y = merged[\"latitude\"], alpha=0.6, c=\"blue\")"
   ]
  },
  {
   "cell_type": "code",
   "execution_count": 33,
   "metadata": {},
   "outputs": [
    {
     "data": {
      "text/html": [
       "<div>\n",
       "<style scoped>\n",
       "    .dataframe tbody tr th:only-of-type {\n",
       "        vertical-align: middle;\n",
       "    }\n",
       "\n",
       "    .dataframe tbody tr th {\n",
       "        vertical-align: top;\n",
       "    }\n",
       "\n",
       "    .dataframe thead th {\n",
       "        text-align: right;\n",
       "    }\n",
       "</style>\n",
       "<table border=\"1\" class=\"dataframe\">\n",
       "  <thead>\n",
       "    <tr style=\"text-align: right;\">\n",
       "      <th></th>\n",
       "      <th>Subgroup</th>\n",
       "      <th>PTM</th>\n",
       "      <th>TM</th>\n",
       "      <th>STM</th>\n",
       "      <th>Availability Change After Pandemic</th>\n",
       "      <th>Scheduled Telemed</th>\n",
       "      <th>TM_Score</th>\n",
       "    </tr>\n",
       "  </thead>\n",
       "  <tbody>\n",
       "    <tr>\n",
       "      <th>0</th>\n",
       "      <td>Diagnosed diabetes</td>\n",
       "      <td>17.8</td>\n",
       "      <td>55.7</td>\n",
       "      <td>44.4</td>\n",
       "      <td>212.92</td>\n",
       "      <td>79.71</td>\n",
       "      <td>2.671183</td>\n",
       "    </tr>\n",
       "    <tr>\n",
       "      <th>1</th>\n",
       "      <td>Non-Metropolitan</td>\n",
       "      <td>11.6</td>\n",
       "      <td>35.7</td>\n",
       "      <td>22.6</td>\n",
       "      <td>207.76</td>\n",
       "      <td>63.31</td>\n",
       "      <td>3.281630</td>\n",
       "    </tr>\n",
       "    <tr>\n",
       "      <th>2</th>\n",
       "      <td>Diagnosed hypertension</td>\n",
       "      <td>15.1</td>\n",
       "      <td>45.6</td>\n",
       "      <td>32.9</td>\n",
       "      <td>201.99</td>\n",
       "      <td>72.15</td>\n",
       "      <td>2.799584</td>\n",
       "    </tr>\n",
       "    <tr>\n",
       "      <th>3</th>\n",
       "      <td>65 years and over</td>\n",
       "      <td>15.3</td>\n",
       "      <td>45.9</td>\n",
       "      <td>32.0</td>\n",
       "      <td>200.00</td>\n",
       "      <td>69.72</td>\n",
       "      <td>2.868617</td>\n",
       "    </tr>\n",
       "    <tr>\n",
       "      <th>4</th>\n",
       "      <td>One or more chronic conditions</td>\n",
       "      <td>15.6</td>\n",
       "      <td>45.3</td>\n",
       "      <td>31.6</td>\n",
       "      <td>190.38</td>\n",
       "      <td>69.76</td>\n",
       "      <td>2.729071</td>\n",
       "    </tr>\n",
       "    <tr>\n",
       "      <th>5</th>\n",
       "      <td>White non-Hispanic</td>\n",
       "      <td>13.0</td>\n",
       "      <td>37.4</td>\n",
       "      <td>24.7</td>\n",
       "      <td>187.69</td>\n",
       "      <td>66.04</td>\n",
       "      <td>2.842065</td>\n",
       "    </tr>\n",
       "    <tr>\n",
       "      <th>6</th>\n",
       "      <td>45-64 years</td>\n",
       "      <td>13.9</td>\n",
       "      <td>39.8</td>\n",
       "      <td>26.9</td>\n",
       "      <td>186.33</td>\n",
       "      <td>67.59</td>\n",
       "      <td>2.756769</td>\n",
       "    </tr>\n",
       "    <tr>\n",
       "      <th>7</th>\n",
       "      <td>Female</td>\n",
       "      <td>14.4</td>\n",
       "      <td>39.7</td>\n",
       "      <td>26.4</td>\n",
       "      <td>175.69</td>\n",
       "      <td>66.50</td>\n",
       "      <td>2.641955</td>\n",
       "    </tr>\n",
       "    <tr>\n",
       "      <th>8</th>\n",
       "      <td>High school graduate or less</td>\n",
       "      <td>13.2</td>\n",
       "      <td>35.0</td>\n",
       "      <td>23.1</td>\n",
       "      <td>165.15</td>\n",
       "      <td>66.00</td>\n",
       "      <td>2.502273</td>\n",
       "    </tr>\n",
       "    <tr>\n",
       "      <th>9</th>\n",
       "      <td>Overall Average</td>\n",
       "      <td>14.1</td>\n",
       "      <td>36.6</td>\n",
       "      <td>24.2</td>\n",
       "      <td>159.57</td>\n",
       "      <td>66.12</td>\n",
       "      <td>2.413339</td>\n",
       "    </tr>\n",
       "    <tr>\n",
       "      <th>10</th>\n",
       "      <td>Some college</td>\n",
       "      <td>13.8</td>\n",
       "      <td>35.4</td>\n",
       "      <td>24.2</td>\n",
       "      <td>156.52</td>\n",
       "      <td>68.36</td>\n",
       "      <td>2.289643</td>\n",
       "    </tr>\n",
       "    <tr>\n",
       "      <th>11</th>\n",
       "      <td>Bachelor's degree or above</td>\n",
       "      <td>15.5</td>\n",
       "      <td>39.5</td>\n",
       "      <td>25.5</td>\n",
       "      <td>154.84</td>\n",
       "      <td>64.56</td>\n",
       "      <td>2.398389</td>\n",
       "    </tr>\n",
       "    <tr>\n",
       "      <th>12</th>\n",
       "      <td>Metropolitan</td>\n",
       "      <td>14.5</td>\n",
       "      <td>36.7</td>\n",
       "      <td>24.4</td>\n",
       "      <td>153.10</td>\n",
       "      <td>66.49</td>\n",
       "      <td>2.302602</td>\n",
       "    </tr>\n",
       "    <tr>\n",
       "      <th>13</th>\n",
       "      <td>Current asthma</td>\n",
       "      <td>18.3</td>\n",
       "      <td>46.0</td>\n",
       "      <td>36.9</td>\n",
       "      <td>151.37</td>\n",
       "      <td>80.22</td>\n",
       "      <td>1.886936</td>\n",
       "    </tr>\n",
       "    <tr>\n",
       "      <th>14</th>\n",
       "      <td>Hispanic</td>\n",
       "      <td>13.9</td>\n",
       "      <td>33.4</td>\n",
       "      <td>21.9</td>\n",
       "      <td>140.29</td>\n",
       "      <td>65.57</td>\n",
       "      <td>2.139546</td>\n",
       "    </tr>\n",
       "    <tr>\n",
       "      <th>15</th>\n",
       "      <td>Male</td>\n",
       "      <td>13.9</td>\n",
       "      <td>33.4</td>\n",
       "      <td>22.0</td>\n",
       "      <td>140.29</td>\n",
       "      <td>65.87</td>\n",
       "      <td>2.129801</td>\n",
       "    </tr>\n",
       "    <tr>\n",
       "      <th>16</th>\n",
       "      <td>18-44 years</td>\n",
       "      <td>13.7</td>\n",
       "      <td>30.2</td>\n",
       "      <td>18.8</td>\n",
       "      <td>120.44</td>\n",
       "      <td>62.25</td>\n",
       "      <td>1.934779</td>\n",
       "    </tr>\n",
       "    <tr>\n",
       "      <th>17</th>\n",
       "      <td>Black non-Hispanic</td>\n",
       "      <td>18.0</td>\n",
       "      <td>38.5</td>\n",
       "      <td>27.4</td>\n",
       "      <td>113.89</td>\n",
       "      <td>71.17</td>\n",
       "      <td>1.600253</td>\n",
       "    </tr>\n",
       "    <tr>\n",
       "      <th>18</th>\n",
       "      <td>Other non-Hispanic</td>\n",
       "      <td>17.7</td>\n",
       "      <td>34.1</td>\n",
       "      <td>19.9</td>\n",
       "      <td>92.66</td>\n",
       "      <td>58.36</td>\n",
       "      <td>1.587731</td>\n",
       "    </tr>\n",
       "  </tbody>\n",
       "</table>\n",
       "</div>"
      ],
      "text/plain": [
       "                          Subgroup   PTM    TM   STM  \\\n",
       "0               Diagnosed diabetes  17.8  55.7  44.4   \n",
       "1                 Non-Metropolitan  11.6  35.7  22.6   \n",
       "2           Diagnosed hypertension  15.1  45.6  32.9   \n",
       "3                65 years and over  15.3  45.9  32.0   \n",
       "4   One or more chronic conditions  15.6  45.3  31.6   \n",
       "5               White non-Hispanic  13.0  37.4  24.7   \n",
       "6                      45-64 years  13.9  39.8  26.9   \n",
       "7                           Female  14.4  39.7  26.4   \n",
       "8     High school graduate or less  13.2  35.0  23.1   \n",
       "9                  Overall Average  14.1  36.6  24.2   \n",
       "10                    Some college  13.8  35.4  24.2   \n",
       "11      Bachelor's degree or above  15.5  39.5  25.5   \n",
       "12                    Metropolitan  14.5  36.7  24.4   \n",
       "13                  Current asthma  18.3  46.0  36.9   \n",
       "14                        Hispanic  13.9  33.4  21.9   \n",
       "15                            Male  13.9  33.4  22.0   \n",
       "16                     18-44 years  13.7  30.2  18.8   \n",
       "17              Black non-Hispanic  18.0  38.5  27.4   \n",
       "18              Other non-Hispanic  17.7  34.1  19.9   \n",
       "\n",
       "    Availability Change After Pandemic  Scheduled Telemed  TM_Score  \n",
       "0                               212.92              79.71  2.671183  \n",
       "1                               207.76              63.31  3.281630  \n",
       "2                               201.99              72.15  2.799584  \n",
       "3                               200.00              69.72  2.868617  \n",
       "4                               190.38              69.76  2.729071  \n",
       "5                               187.69              66.04  2.842065  \n",
       "6                               186.33              67.59  2.756769  \n",
       "7                               175.69              66.50  2.641955  \n",
       "8                               165.15              66.00  2.502273  \n",
       "9                               159.57              66.12  2.413339  \n",
       "10                              156.52              68.36  2.289643  \n",
       "11                              154.84              64.56  2.398389  \n",
       "12                              153.10              66.49  2.302602  \n",
       "13                              151.37              80.22  1.886936  \n",
       "14                              140.29              65.57  2.139546  \n",
       "15                              140.29              65.87  2.129801  \n",
       "16                              120.44              62.25  1.934779  \n",
       "17                              113.89              71.17  1.600253  \n",
       "18                               92.66              58.36  1.587731  "
      ]
     },
     "execution_count": 33,
     "metadata": {},
     "output_type": "execute_result"
    }
   ],
   "source": [
    "all_subgroups = pd.read_csv(\"all_subgroups.csv\")\n",
    "all_subgroups[\"TM_Score\"] = all_subgroups[\"telemed before and after pandemic % change\"] / all_subgroups[\"%scheduled of available telemed\"]\n",
    "all_subgroups = all_subgroups.rename(columns={\"%scheduled of available telemed\": \"Scheduled Telemed\", \"telemed before and after pandemic % change\": \"Availability Change After Pandemic\"})\n",
    "all_subgroups"
   ]
  },
  {
   "cell_type": "code",
   "execution_count": 31,
   "metadata": {},
   "outputs": [
    {
     "data": {
      "text/plain": [
       "<AxesSubplot:>"
      ]
     },
     "execution_count": 31,
     "metadata": {},
     "output_type": "execute_result"
    },
    {
     "data": {
      "image/png": "[encoded data removed]",
      "text/plain": [
       "<Figure size 432x288 with 1 Axes>"
      ]
     },
     "metadata": {
      "needs_background": "light"
     },
     "output_type": "display_data"
    }
   ],
   "source": [
    "med_subgroups = pd.read_csv(\"med_subgroups.csv\")\n",
    "med_subgroups[\"TM_Score\"] = med_subgroups[\"telemed before and after pandemic % change\"] / med_subgroups[\"%scheduled of available telemed\"]\n",
    "med_subgroups = med_subgroups.rename(columns={\"%scheduled of available telemed\": \"Scheduled Telemed\", \"telemed before and after pandemic % change\": \"Availability Change After Pandemic\"})\n",
    "med_subgroups.plot(kind=\"bar\")"
   ]
  },
  {
   "cell_type": "code",
   "execution_count": 49,
   "metadata": {},
   "outputs": [
    {
     "data": {
      "text/plain": [
       "<AxesSubplot:xlabel='Scheduled Telemed', ylabel='Availability Change After Pandemic'>"
      ]
     },
     "execution_count": 49,
     "metadata": {},
     "output_type": "execute_result"
    },
    {
     "data": {
      "image/png": "[encoded data removed]",
      "text/plain": [
       "<Figure size 432x288 with 1 Axes>"
      ]
     },
     "metadata": {
      "needs_background": "light"
     },
     "output_type": "display_data"
    }
   ],
   "source": [
    "all_subgroups.plot(kind=\"scatter\", x=\"Scheduled Telemed\", y=\"Availability Change After Pandemic\", color=\"navy\")"
   ]
  },
  {
   "cell_type": "code",
   "execution_count": 38,
   "metadata": {
    "scrolled": true
   },
   "outputs": [
    {
     "data": {
      "text/plain": [
       "<AxesSubplot:xlabel='Subgroup', ylabel='Scheduled Telemed'>"
      ]
     },
     "execution_count": 38,
     "metadata": {},
     "output_type": "execute_result"
    },
    {
     "data": {
      "image/png": "[encoded data removed]",
      "text/plain": [
       "<Figure size 432x288 with 1 Axes>"
      ]
     },
     "metadata": {
      "needs_background": "light"
     },
     "output_type": "display_data"
    }
   ],
   "source": [
    "_, ax = plt.subplots()\n",
    "ax.set_ylim([70, 90])\n",
    "ax.tick_params(rotation=15)\n",
    "\n",
    "\n",
    "sns.barplot(data=med_subgroups, x=\"Subgroup\", y=\"Scheduled Telemed\", ax=ax, palette=sns.color_palette(\"bright\"))"
   ]
  },
  {
   "cell_type": "code",
   "execution_count": 39,
   "metadata": {},
   "outputs": [
    {
     "data": {
      "text/plain": [
       "<AxesSubplot:xlabel='Subgroup', ylabel='Availability Change After Pandemic'>"
      ]
     },
     "execution_count": 39,
     "metadata": {},
     "output_type": "execute_result"
    },
    {
     "data": {
      "image/png": "[encoded data removed]",
      "text/plain": [
       "<Figure size 432x288 with 1 Axes>"
      ]
     },
     "metadata": {
      "needs_background": "light"
     },
     "output_type": "display_data"
    }
   ],
   "source": [
    "_, ax = plt.subplots()\n",
    "#ax.set_ylim(, 250])\n",
    "ax.tick_params(rotation=15)\n",
    "\n",
    "\n",
    "sns.barplot(data=med_subgroups, x=\"Subgroup\", y=\"Availability Change After Pandemic\", ax=ax, palette=sns.color_palette(\"bright\"))"
   ]
  }
 ],
 "metadata": {
  "kernelspec": {
   "display_name": "Python 3",
   "language": "python",
   "name": "python3"
  },
  "language_info": {
   "codemirror_mode": {
    "name": "ipython",
    "version": 3
   },
   "file_extension": ".py",
   "mimetype": "text/x-python",
   "name": "python",
   "nbconvert_exporter": "python",
   "pygments_lexer": "ipython3",
   "version": "3.8.3"
  }
 },
 "nbformat": 4,
 "nbformat_minor": 4
}
